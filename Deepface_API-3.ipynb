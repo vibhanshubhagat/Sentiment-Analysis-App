{
 "cells": [
  {
   "cell_type": "code",
   "execution_count": 1,
   "id": "10dadcad",
   "metadata": {
    "scrolled": true
   },
   "outputs": [],
   "source": [
    "#!pip install deepface"
   ]
  },
  {
   "cell_type": "code",
   "execution_count": 2,
   "id": "a138671e",
   "metadata": {},
   "outputs": [],
   "source": [
    "# from deepface import DeepFace"
   ]
  },
  {
   "cell_type": "code",
   "execution_count": 3,
   "id": "9c49ab5d",
   "metadata": {},
   "outputs": [],
   "source": [
    "# import cv2\n",
    "# import matplotlib.pyplot as plt"
   ]
  },
  {
   "cell_type": "code",
   "execution_count": 4,
   "id": "f0e3ce66",
   "metadata": {},
   "outputs": [],
   "source": [
    "# img1 = cv2.imread('/Users/vibhanshubhagat/Desktop/ML/Sentiment Analysis/image10.jpg')\n",
    "# plt.imshow(img1[:,:,::-1])\n",
    "# plt.show()"
   ]
  },
  {
   "cell_type": "code",
   "execution_count": 5,
   "id": "0077c1f7",
   "metadata": {
    "scrolled": true
   },
   "outputs": [],
   "source": [
    "# result = DeepFace.analyze(img1, actions=['emotion'])\n",
    "# print(result)\n",
    "# emotions = result[0]['emotion']\n",
    "# sorted_emotions = sorted(emotions.items(), key=lambda x: x[1], reverse=True)[:2]\n",
    "# top_emotions = [emotion for emotion, _ in sorted_emotions]\n",
    "# print(\"Top 2 dominant emotions:\", top_emotions)"
   ]
  },
  {
   "cell_type": "code",
   "execution_count": null,
   "id": "ada0ae8e",
   "metadata": {
    "code_folding": []
   },
   "outputs": [
    {
     "name": "stdout",
     "output_type": "stream",
     "text": [
      " * Serving Flask app '__main__'\n",
      " * Debug mode: off\n"
     ]
    },
    {
     "name": "stderr",
     "output_type": "stream",
     "text": [
      "WARNING: This is a development server. Do not use it in a production deployment. Use a production WSGI server instead.\n",
      " * Running on all addresses (0.0.0.0)\n",
      " * Running on http://127.0.0.1:5003\n",
      " * Running on http://192.168.0.72:5003\n",
      "Press CTRL+C to quit\n",
      "Action: emotion: 100%|████████████████████████████| 1/1 [00:00<00:00, 10.39it/s]\n",
      "192.168.0.22 - - [14/Jul/2023 22:56:41] \"POST /post_json HTTP/1.1\" 200 -\n"
     ]
    },
    {
     "name": "stdout",
     "output_type": "stream",
     "text": [
      "[{'emotion': {'angry': 0.04882287757936865, 'disgust': 4.217541871298636e-08, 'fear': 5.71519061923027, 'happy': 6.216669703462685e-05, 'sad': 14.77004736661911, 'surprise': 0.0005917565431445837, 'neutral': 79.46528196334839}, 'dominant_emotion': 'neutral', 'region': {'x': 774, 'y': 1432, 'w': 1795, 'h': 1795}}]\n",
      "['Neutral', 'Sad']\n"
     ]
    },
    {
     "name": "stderr",
     "output_type": "stream",
     "text": [
      "Action: emotion: 100%|████████████████████████████| 1/1 [00:00<00:00,  6.61it/s]\n",
      "192.168.0.22 - - [14/Jul/2023 22:57:50] \"POST /post_json HTTP/1.1\" 200 -\n"
     ]
    },
    {
     "name": "stdout",
     "output_type": "stream",
     "text": [
      "[{'emotion': {'angry': 1.9777135484844166e-08, 'disgust': 1.360073950731843e-18, 'fear': 0.003761926564038731, 'happy': 7.902555563057967e-11, 'sad': 99.89445805549622, 'surprise': 2.7644179202536397e-15, 'neutral': 0.10177928488701582}, 'dominant_emotion': 'sad', 'region': {'x': 869, 'y': 1353, 'w': 1895, 'h': 1895}}]\n",
      "['Sad']\n"
     ]
    },
    {
     "name": "stderr",
     "output_type": "stream",
     "text": [
      "127.0.0.1 - - [14/Jul/2023 23:00:57] \"GET / HTTP/1.1\" 200 -\n",
      "192.168.0.22 - - [14/Jul/2023 23:01:42] \"GET /favicon.ico HTTP/1.1\" 404 -\n",
      "192.168.0.22 - - [14/Jul/2023 23:01:44] \"GET / HTTP/1.1\" 200 -\n",
      "192.168.0.22 - - [14/Jul/2023 23:01:55] \"GET / HTTP/1.1\" 200 -\n",
      "Action: emotion: 100%|████████████████████████████| 1/1 [00:00<00:00,  5.01it/s]\n",
      "192.168.0.22 - - [14/Jul/2023 23:08:03] \"POST /post_json HTTP/1.1\" 200 -\n"
     ]
    },
    {
     "name": "stdout",
     "output_type": "stream",
     "text": [
      "[{'emotion': {'angry': 0.00031222937195707345, 'disgust': 4.5093089262593367e-07, 'fear': 49.96287524700165, 'happy': 50.03437399864197, 'sad': 2.3934100568112626e-05, 'surprise': 0.00025068939066841267, 'neutral': 0.0021665966414730065}, 'dominant_emotion': 'happy', 'region': {'x': 262, 'y': 106, 'w': 131, 'h': 131}}]\n",
      "['Happy', 'Fear']\n"
     ]
    },
    {
     "name": "stderr",
     "output_type": "stream",
     "text": [
      "192.168.0.22 - - [14/Jul/2023 23:14:27] \"GET / HTTP/1.1\" 200 -\n",
      "Action: emotion: 100%|████████████████████████████| 1/1 [00:00<00:00,  8.62it/s]\n",
      "192.168.0.22 - - [14/Jul/2023 23:14:44] \"POST /post_json HTTP/1.1\" 200 -\n"
     ]
    },
    {
     "name": "stdout",
     "output_type": "stream",
     "text": [
      "[{'emotion': {'angry': 0.00031222937195707345, 'disgust': 4.5093089262593367e-07, 'fear': 49.96287524700165, 'happy': 50.03437399864197, 'sad': 2.3934100568112626e-05, 'surprise': 0.00025068939066841267, 'neutral': 0.0021665966414730065}, 'dominant_emotion': 'happy', 'region': {'x': 262, 'y': 106, 'w': 131, 'h': 131}}]\n",
      "['Happy', 'Fear']\n"
     ]
    },
    {
     "name": "stderr",
     "output_type": "stream",
     "text": [
      "Action: emotion: 100%|████████████████████████████| 1/1 [00:00<00:00,  5.76it/s]\n",
      "192.168.0.22 - - [14/Jul/2023 23:25:48] \"POST /post_json HTTP/1.1\" 200 -\n"
     ]
    },
    {
     "name": "stdout",
     "output_type": "stream",
     "text": [
      "[{'emotion': {'angry': 1.1261518966907631e-05, 'disgust': 1.8674131280618556e-11, 'fear': 1.0344397893214101, 'happy': 0.00011489509691251903, 'sad': 4.525835975964752e-07, 'surprise': 98.96543615850426, 'neutral': 3.6648505860661012e-09}, 'dominant_emotion': 'surprise', 'region': {'x': 114, 'y': 86, 'w': 205, 'h': 205}}]\n",
      "['Surprise']\n"
     ]
    },
    {
     "name": "stderr",
     "output_type": "stream",
     "text": [
      "Action: emotion: 100%|████████████████████████████| 1/1 [00:00<00:00, 38.52it/s]\n",
      "192.168.0.22 - - [14/Jul/2023 23:25:52] \"POST /post_json HTTP/1.1\" 200 -\n"
     ]
    },
    {
     "name": "stdout",
     "output_type": "stream",
     "text": [
      "[{'emotion': {'angry': 1.3286742660493533, 'disgust': 2.6975217886285913e-11, 'fear': 98.65473524871645, 'happy': 0.002328459135973575, 'sad': 9.419194078732192e-07, 'surprise': 0.014251548902412635, 'neutral': 3.41217830881322e-12}, 'dominant_emotion': 'fear', 'region': {'x': 228, 'y': 71, 'w': 197, 'h': 197}}]\n",
      "['Fear']\n"
     ]
    },
    {
     "name": "stderr",
     "output_type": "stream",
     "text": [
      "Action: emotion: 100%|████████████████████████████| 1/1 [00:00<00:00, 50.39it/s]\n",
      "192.168.0.22 - - [14/Jul/2023 23:25:56] \"POST /post_json HTTP/1.1\" 200 -\n"
     ]
    },
    {
     "name": "stdout",
     "output_type": "stream",
     "text": [
      "[{'emotion': {'angry': 1.018863138935753, 'disgust': 0.03886562421675767, 'fear': 55.77848886123233, 'happy': 0.043704255644299424, 'sad': 36.870130113967065, 'surprise': 0.0018047038959349035, 'neutral': 6.248146667966048}, 'dominant_emotion': 'fear', 'region': {'x': 352, 'y': 340, 'w': 638, 'h': 638}}]\n",
      "['Fear', 'Sad']\n"
     ]
    },
    {
     "name": "stderr",
     "output_type": "stream",
     "text": [
      "Action: emotion: 100%|████████████████████████████| 1/1 [00:00<00:00, 57.18it/s]\n",
      "192.168.0.22 - - [14/Jul/2023 23:25:59] \"POST /post_json HTTP/1.1\" 200 -\n"
     ]
    },
    {
     "name": "stdout",
     "output_type": "stream",
     "text": [
      "[{'emotion': {'angry': 0.017069084714093637, 'disgust': 0.0038420918388468004, 'fear': 73.92638170280347, 'happy': 1.0253033842589424e-10, 'sad': 26.046525004298985, 'surprise': 0.004149670596191583, 'neutral': 0.0020353710473410293}, 'dominant_emotion': 'fear', 'region': {'x': 512, 'y': 314, 'w': 401, 'h': 401}}]\n",
      "['Fear', 'Sad']\n"
     ]
    },
    {
     "name": "stderr",
     "output_type": "stream",
     "text": [
      "Action: emotion: 100%|████████████████████████████| 1/1 [00:00<00:00, 47.03it/s]\n",
      "192.168.0.22 - - [14/Jul/2023 23:26:02] \"POST /post_json HTTP/1.1\" 200 -\n"
     ]
    },
    {
     "name": "stdout",
     "output_type": "stream",
     "text": [
      "[{'emotion': {'angry': 0.006104967542428451, 'disgust': 3.427694954564155e-06, 'fear': 87.03064841214707, 'happy': 0.2243901271009521, 'sad': 0.006261208555165071, 'surprise': 9.91437270726995, 'neutral': 2.8182223256362873}, 'dominant_emotion': 'fear', 'region': {'x': 202, 'y': 132, 'w': 304, 'h': 304}}]\n",
      "['Fear']\n"
     ]
    },
    {
     "name": "stderr",
     "output_type": "stream",
     "text": [
      "Action: emotion: 100%|████████████████████████████| 1/1 [00:00<00:00, 34.94it/s]\n",
      "192.168.0.22 - - [14/Jul/2023 23:26:03] \"POST /post_json HTTP/1.1\" 200 -\n"
     ]
    },
    {
     "name": "stdout",
     "output_type": "stream",
     "text": [
      "[{'emotion': {'angry': 0.00031222937195707345, 'disgust': 4.5093089262593367e-07, 'fear': 49.96287524700165, 'happy': 50.03437399864197, 'sad': 2.3934100568112626e-05, 'surprise': 0.00025068939066841267, 'neutral': 0.0021665966414730065}, 'dominant_emotion': 'happy', 'region': {'x': 262, 'y': 106, 'w': 131, 'h': 131}}]\n",
      "['Happy', 'Fear']\n"
     ]
    },
    {
     "name": "stderr",
     "output_type": "stream",
     "text": [
      "Action: emotion: 100%|████████████████████████████| 1/1 [00:00<00:00, 16.96it/s]\n",
      "192.168.0.22 - - [14/Jul/2023 23:26:30] \"POST /post_json HTTP/1.1\" 200 -\n"
     ]
    },
    {
     "name": "stdout",
     "output_type": "stream",
     "text": [
      "[{'emotion': {'angry': 1.926589163758763e-05, 'disgust': 1.4343176112350253e-18, 'fear': 3.816615426477377e-09, 'happy': 99.9882459640503, 'sad': 4.700423938963638e-08, 'surprise': 2.0725074434402302e-08, 'neutral': 0.011733714927686378}, 'dominant_emotion': 'happy', 'region': {'x': 718, 'y': 1094, 'w': 1969, 'h': 1969}}]\n",
      "['Happy']\n"
     ]
    },
    {
     "name": "stderr",
     "output_type": "stream",
     "text": [
      "Action: emotion: 100%|████████████████████████████| 1/1 [00:00<00:00, 29.26it/s]\n",
      "192.168.0.22 - - [14/Jul/2023 23:26:39] \"POST /post_json HTTP/1.1\" 200 -\n"
     ]
    },
    {
     "name": "stdout",
     "output_type": "stream",
     "text": [
      "[{'emotion': {'angry': 7.4793423915854716e-06, 'disgust': 8.003750453287045e-15, 'fear': 53.98223721875174, 'happy': 0.00047415535943786893, 'sad': 46.009036660733024, 'surprise': 0.008243861284672397, 'neutral': 2.762976501298388e-06}, 'dominant_emotion': 'fear', 'region': {'x': 699, 'y': 1039, 'w': 1863, 'h': 1863}}]\n",
      "['Fear', 'Sad']\n"
     ]
    },
    {
     "name": "stderr",
     "output_type": "stream",
     "text": [
      "Action: emotion: 100%|████████████████████████████| 1/1 [00:00<00:00, 37.15it/s]\n",
      "192.168.0.22 - - [14/Jul/2023 23:27:30] \"POST /post_json HTTP/1.1\" 200 -\n"
     ]
    },
    {
     "name": "stdout",
     "output_type": "stream",
     "text": [
      "[{'emotion': {'angry': 4.377630986430108, 'disgust': 2.7885299643904542e-05, 'fear': 0.03616962273591744, 'happy': 0.05679594225710286, 'sad': 6.45208620739497, 'surprise': 4.303735935468138e-06, 'neutral': 89.07728726132436}, 'dominant_emotion': 'neutral', 'region': {'x': 625, 'y': 1189, 'w': 2142, 'h': 2142}}]\n",
      "['Neutral']\n"
     ]
    },
    {
     "name": "stderr",
     "output_type": "stream",
     "text": [
      "Action: emotion: 100%|████████████████████████████| 1/1 [00:00<00:00, 42.97it/s]\n",
      "192.168.0.22 - - [14/Jul/2023 23:27:37] \"POST /post_json HTTP/1.1\" 200 -\n"
     ]
    },
    {
     "name": "stdout",
     "output_type": "stream",
     "text": [
      "[{'emotion': {'angry': 5.660128398962683e-11, 'disgust': 5.847238346801152e-21, 'fear': 0.0012081781278538983, 'happy': 8.190980445993423e-11, 'sad': 99.98373985290527, 'surprise': 9.0858416749271e-18, 'neutral': 0.015053818060550839}, 'dominant_emotion': 'sad', 'region': {'x': 618, 'y': 1119, 'w': 2091, 'h': 2091}}]\n",
      "['Sad']\n"
     ]
    },
    {
     "name": "stderr",
     "output_type": "stream",
     "text": [
      "Action: emotion: 100%|████████████████████████████| 1/1 [00:00<00:00, 24.94it/s]\n",
      "192.168.0.22 - - [14/Jul/2023 23:27:47] \"POST /post_json HTTP/1.1\" 200 -\n"
     ]
    },
    {
     "name": "stdout",
     "output_type": "stream",
     "text": [
      "[{'emotion': {'angry': 2.389314204265247e-05, 'disgust': 8.180841627916156e-21, 'fear': 99.67703819274902, 'happy': 0.1875483663752675, 'sad': 0.06494563422165811, 'surprise': 0.0005114833129482577, 'neutral': 0.06993669085204601}, 'dominant_emotion': 'fear', 'region': {'x': 573, 'y': 958, 'w': 2091, 'h': 2091}}]\n",
      "['Fear']\n"
     ]
    },
    {
     "name": "stderr",
     "output_type": "stream",
     "text": [
      "Action: emotion: 100%|████████████████████████████| 1/1 [00:00<00:00, 21.15it/s]\n",
      "192.168.0.22 - - [14/Jul/2023 23:28:02] \"POST /post_json HTTP/1.1\" 200 -\n"
     ]
    },
    {
     "name": "stdout",
     "output_type": "stream",
     "text": [
      "[{'emotion': {'angry': 1.5328632636423696e-05, 'disgust': 1.1286806169587642e-10, 'fear': 0.1108982965303417, 'happy': 75.50554579562495, 'sad': 0.015082548249574543, 'surprise': 0.031169496001392127, 'neutral': 24.337294618760897}, 'dominant_emotion': 'happy', 'region': {'x': 746, 'y': 1012, 'w': 2006, 'h': 2006}}]\n",
      "['Happy', 'Neutral']\n"
     ]
    },
    {
     "name": "stderr",
     "output_type": "stream",
     "text": [
      "Action: emotion: 100%|████████████████████████████| 1/1 [00:00<00:00, 32.06it/s]\n",
      "192.168.0.22 - - [14/Jul/2023 23:28:43] \"POST /post_json HTTP/1.1\" 200 -\n"
     ]
    },
    {
     "name": "stdout",
     "output_type": "stream",
     "text": [
      "[{'emotion': {'angry': 0.0005601907439201209, 'disgust': 4.1218753178758886e-15, 'fear': 7.619246843510119e-06, 'happy': 99.99923110003657, 'sad': 0.00020317692207336475, 'surprise': 3.7805258401196033e-08, 'neutral': 1.073078842573329e-09}, 'dominant_emotion': 'happy', 'region': {'x': 802, 'y': 1607, 'w': 1762, 'h': 1762}}]\n",
      "['Happy']\n"
     ]
    },
    {
     "name": "stderr",
     "output_type": "stream",
     "text": [
      "Action: emotion: 100%|████████████████████████████| 1/1 [00:00<00:00, 46.14it/s]\n",
      "192.168.0.22 - - [14/Jul/2023 23:28:58] \"POST /post_json HTTP/1.1\" 200 -\n"
     ]
    },
    {
     "name": "stdout",
     "output_type": "stream",
     "text": [
      "[{'emotion': {'angry': 0.2510808474741396, 'disgust': 9.975278824167387e-05, 'fear': 40.10940970294591, 'happy': 0.0002035488493489127, 'sad': 28.972959992046356, 'surprise': 1.305375074882133e-06, 'neutral': 30.66624768570038}, 'dominant_emotion': 'fear', 'region': {'x': 688, 'y': 1261, 'w': 2081, 'h': 2081}}]\n",
      "['Fear', 'Neutral']\n"
     ]
    },
    {
     "name": "stderr",
     "output_type": "stream",
     "text": [
      "Action: emotion: 100%|████████████████████████████| 1/1 [00:00<00:00,  5.40it/s]\n",
      "192.168.0.22 - - [14/Jul/2023 23:41:39] \"POST /post_json HTTP/1.1\" 200 -\n"
     ]
    },
    {
     "name": "stdout",
     "output_type": "stream",
     "text": [
      "[{'emotion': {'angry': 3.8678331648611675e-07, 'disgust': 4.4863314084307516e-17, 'fear': 1.2558303008614047e-08, 'happy': 22.812269628047943, 'sad': 5.921767751715379e-05, 'surprise': 1.0379163084550669e-07, 'neutral': 77.18766927719116}, 'dominant_emotion': 'neutral', 'region': {'x': 1111, 'y': 1879, 'w': 1343, 'h': 1343}}]\n",
      "['Neutral', 'Happy']\n"
     ]
    },
    {
     "name": "stderr",
     "output_type": "stream",
     "text": [
      "Action: emotion: 100%|████████████████████████████| 1/1 [00:00<00:00, 27.37it/s]\n",
      "192.168.0.22 - - [14/Jul/2023 23:41:47] \"POST /post_json HTTP/1.1\" 200 -\n"
     ]
    },
    {
     "name": "stdout",
     "output_type": "stream",
     "text": [
      "[{'emotion': {'angry': 1.707152197383266e-07, 'disgust': 2.0625499572157757e-09, 'fear': 0.00019956739834015025, 'happy': 92.64794588088989, 'sad': 0.0022538710254593752, 'surprise': 2.4450281799204276e-07, 'neutral': 7.349598407745361}, 'dominant_emotion': 'happy', 'region': {'x': 1184, 'y': 1779, 'w': 1284, 'h': 1284}}]\n",
      "['Happy']\n"
     ]
    },
    {
     "name": "stderr",
     "output_type": "stream",
     "text": [
      "Action: emotion: 100%|████████████████████████████| 1/1 [00:00<00:00, 20.64it/s]\n",
      "Action: emotion: 100%|████████████████████████████| 1/1 [00:00<00:00, 50.16it/s]\n",
      "192.168.0.22 - - [14/Jul/2023 23:41:54] \"POST /post_json HTTP/1.1\" 200 -\n"
     ]
    },
    {
     "name": "stdout",
     "output_type": "stream",
     "text": [
      "[{'emotion': {'angry': 0.01748317008605227, 'disgust': 3.606467302574856e-06, 'fear': 0.005002538455300964, 'happy': 0.014725071378052235, 'sad': 8.283453434705734, 'surprise': 2.9638136389564806e-08, 'neutral': 91.67933464050293}, 'dominant_emotion': 'neutral', 'region': {'x': 1099, 'y': 1489, 'w': 1469, 'h': 1469}}, {'emotion': {'angry': 0.010389449635916181, 'disgust': 7.1043175580267015e-09, 'fear': 13.904262417808916, 'happy': 0.13260325275976972, 'sad': 15.947396513664515, 'surprise': 0.00037645984291127414, 'neutral': 70.00497400790299}, 'dominant_emotion': 'neutral', 'region': {'x': 436, 'y': 2789, 'w': 87, 'h': 87}}]\n",
      "['Neutral']\n"
     ]
    },
    {
     "name": "stderr",
     "output_type": "stream",
     "text": [
      "Action: emotion: 100%|████████████████████████████| 1/1 [00:00<00:00, 26.54it/s]\n",
      "192.168.0.22 - - [14/Jul/2023 23:42:00] \"POST /post_json HTTP/1.1\" 200 -\n"
     ]
    },
    {
     "name": "stdout",
     "output_type": "stream",
     "text": [
      "[{'emotion': {'angry': 8.731958212049307e-09, 'disgust': 6.73278646218712e-21, 'fear': 5.1869955813160784e-11, 'happy': 99.99916553497314, 'sad': 7.859365935836138e-09, 'surprise': 1.8116958671113292e-11, 'neutral': 0.0008375093784707133}, 'dominant_emotion': 'happy', 'region': {'x': 1204, 'y': 1870, 'w': 1374, 'h': 1374}}]\n",
      "['Happy']\n"
     ]
    },
    {
     "name": "stderr",
     "output_type": "stream",
     "text": [
      "Action: emotion: 100%|████████████████████████████| 1/1 [00:00<00:00, 46.47it/s]\n",
      "192.168.0.22 - - [14/Jul/2023 23:42:09] \"POST /post_json HTTP/1.1\" 200 -\n"
     ]
    },
    {
     "name": "stdout",
     "output_type": "stream",
     "text": [
      "[{'emotion': {'angry': 0.012296627381380364, 'disgust': 4.385650694376622e-09, 'fear': 96.35961099152433, 'happy': 8.777980672859956e-06, 'sad': 3.6275848147171956, 'surprise': 0.00012878473000448856, 'neutral': 0.00036510396252660343}, 'dominant_emotion': 'fear', 'region': {'x': 918, 'y': 1477, 'w': 1743, 'h': 1743}}]\n",
      "['Fear']\n"
     ]
    },
    {
     "name": "stderr",
     "output_type": "stream",
     "text": [
      "Action: emotion: 100%|████████████████████████████| 1/1 [00:00<00:00,  5.99it/s]\n",
      "192.168.0.22 - - [14/Jul/2023 23:54:40] \"POST /post_json HTTP/1.1\" 200 -\n"
     ]
    },
    {
     "name": "stdout",
     "output_type": "stream",
     "text": [
      "[{'emotion': {'angry': 0.018696795450523496, 'disgust': 6.860922940887804e-07, 'fear': 0.0004654601525544422, 'happy': 75.03626942634583, 'sad': 0.15483006136491895, 'surprise': 0.0001735950149850396, 'neutral': 24.789567291736603}, 'dominant_emotion': 'happy', 'region': {'x': 1208, 'y': 1935, 'w': 1097, 'h': 1097}}]\n",
      "['Happy', 'Neutral']\n"
     ]
    },
    {
     "name": "stderr",
     "output_type": "stream",
     "text": [
      "Action: emotion: 100%|████████████████████████████| 1/1 [00:00<00:00, 29.74it/s]\n",
      "192.168.0.22 - - [14/Jul/2023 23:54:57] \"POST /post_json HTTP/1.1\" 200 -\n"
     ]
    },
    {
     "name": "stdout",
     "output_type": "stream",
     "text": [
      "[{'emotion': {'angry': 0.04800047026947141, 'disgust': 0.00012695759323833045, 'fear': 25.65455436706543, 'happy': 65.11850357055664, 'sad': 0.025970631395466626, 'surprise': 8.951956778764725, 'neutral': 0.20089007448405027}, 'dominant_emotion': 'happy', 'region': {'x': 176, 'y': 1029, 'w': 2708, 'h': 2708}}]\n",
      "['Happy', 'Fear']\n"
     ]
    },
    {
     "name": "stderr",
     "output_type": "stream",
     "text": [
      "Action: emotion: 100%|████████████████████████████| 1/1 [00:00<00:00, 38.23it/s]\n",
      "Action: emotion: 100%|████████████████████████████| 1/1 [00:00<00:00, 58.46it/s]\n",
      "192.168.0.22 - - [14/Jul/2023 23:55:11] \"POST /post_json HTTP/1.1\" 200 -\n"
     ]
    },
    {
     "name": "stdout",
     "output_type": "stream",
     "text": [
      "[{'emotion': {'angry': 1.8008384783385623e-07, 'disgust': 3.2598047982433146e-17, 'fear': 3.2258969800968984e-10, 'happy': 99.99943971633911, 'sad': 2.3613493382868e-07, 'surprise': 1.629382176057681e-10, 'neutral': 0.0005616046109935269}, 'dominant_emotion': 'happy', 'region': {'x': 991, 'y': 1662, 'w': 1206, 'h': 1206}}, {'emotion': {'angry': 0.004202899298541145, 'disgust': 8.941520976726946e-13, 'fear': 0.1869418435464092, 'happy': 0.003644514729154403, 'sad': 1.0940574667981307, 'surprise': 9.559643669489e-06, 'neutral': 98.71113911734354}, 'dominant_emotion': 'neutral', 'region': {'x': 263, 'y': 2250, 'w': 81, 'h': 81}}]\n",
      "['Happy']\n"
     ]
    },
    {
     "name": "stderr",
     "output_type": "stream",
     "text": [
      "Action: emotion: 100%|████████████████████████████| 1/1 [00:00<00:00, 38.02it/s]\n",
      "192.168.0.22 - - [14/Jul/2023 23:55:34] \"POST /post_json HTTP/1.1\" 200 -\n"
     ]
    },
    {
     "name": "stdout",
     "output_type": "stream",
     "text": [
      "[{'emotion': {'angry': 7.939138929602407e-09, 'disgust': 7.359031563107781e-13, 'fear': 9.694273161997558e-08, 'happy': 99.9987244606018, 'sad': 2.6255537477481994e-05, 'surprise': 4.487352329995975e-10, 'neutral': 0.0012549976418085862}, 'dominant_emotion': 'happy', 'region': {'x': 1062, 'y': 1607, 'w': 1272, 'h': 1272}}]\n",
      "['Happy']\n"
     ]
    },
    {
     "name": "stderr",
     "output_type": "stream",
     "text": [
      "Action: emotion: 100%|████████████████████████████| 1/1 [00:00<00:00, 39.84it/s]\n",
      "192.168.0.22 - - [14/Jul/2023 23:55:41] \"POST /post_json HTTP/1.1\" 200 -\n"
     ]
    },
    {
     "name": "stdout",
     "output_type": "stream",
     "text": [
      "[{'emotion': {'angry': 3.0752815292014014e-06, 'disgust': 1.7599601967740606e-09, 'fear': 2.1120473961085268e-07, 'happy': 99.97451901739609, 'sad': 0.002235272865635411, 'surprise': 4.6412445172812784e-11, 'neutral': 0.023234063841905284}, 'dominant_emotion': 'happy', 'region': {'x': 1119, 'y': 1604, 'w': 1294, 'h': 1294}}]\n",
      "['Happy']\n"
     ]
    },
    {
     "name": "stderr",
     "output_type": "stream",
     "text": [
      "Action: emotion: 100%|████████████████████████████| 1/1 [00:00<00:00, 25.51it/s]\n",
      "192.168.0.22 - - [14/Jul/2023 23:55:51] \"POST /post_json HTTP/1.1\" 200 -\n"
     ]
    },
    {
     "name": "stdout",
     "output_type": "stream",
     "text": [
      "[{'emotion': {'angry': 0.003731017790883909, 'disgust': 1.927786387534151e-10, 'fear': 99.95716809971142, 'happy': 0.0005570783164409336, 'sad': 3.121174545003027e-05, 'surprise': 0.01917990708259312, 'neutral': 0.01933389545871812}, 'dominant_emotion': 'fear', 'region': {'x': 1043, 'y': 1843, 'w': 1394, 'h': 1394}}]\n",
      "['Fear']\n"
     ]
    },
    {
     "name": "stderr",
     "output_type": "stream",
     "text": [
      "Action: emotion: 100%|████████████████████████████| 1/1 [00:00<00:00, 33.39it/s]\n",
      "192.168.0.22 - - [14/Jul/2023 23:56:02] \"POST /post_json HTTP/1.1\" 200 -\n"
     ]
    },
    {
     "name": "stdout",
     "output_type": "stream",
     "text": [
      "[{'emotion': {'angry': 0.37655222695320845, 'disgust': 1.1730390964137527e-09, 'fear': 0.0013051265341346152, 'happy': 0.03929034573957324, 'sad': 7.544615243659791e-06, 'surprise': 99.58282113075256, 'neutral': 2.197530193370767e-05}, 'dominant_emotion': 'surprise', 'region': {'x': 1031, 'y': 1681, 'w': 1398, 'h': 1398}}]\n",
      "['Surprise']\n"
     ]
    },
    {
     "name": "stderr",
     "output_type": "stream",
     "text": [
      "Action: emotion: 100%|████████████████████████████| 1/1 [00:00<00:00, 51.00it/s]\n",
      "192.168.0.22 - - [14/Jul/2023 23:56:10] \"POST /post_json HTTP/1.1\" 200 -\n"
     ]
    },
    {
     "name": "stdout",
     "output_type": "stream",
     "text": [
      "[{'emotion': {'angry': 94.22616958618164, 'disgust': 5.2751539669770864e-05, 'fear': 2.3632051423192024, 'happy': 0.37858502473682165, 'sad': 2.514495514333248, 'surprise': 0.00013050989764451515, 'neutral': 0.517365662381053}, 'dominant_emotion': 'angry', 'region': {'x': 1183, 'y': 1824, 'w': 1414, 'h': 1414}}]\n",
      "['Angry']\n"
     ]
    },
    {
     "name": "stderr",
     "output_type": "stream",
     "text": [
      "Action: emotion: 100%|████████████████████████████| 1/1 [00:00<00:00, 24.35it/s]\n",
      "192.168.0.22 - - [14/Jul/2023 23:56:20] \"POST /post_json HTTP/1.1\" 200 -\n"
     ]
    },
    {
     "name": "stdout",
     "output_type": "stream",
     "text": [
      "[{'emotion': {'angry': 5.860235313258619e-06, 'disgust': 3.656142051653024e-07, 'fear': 2.551310994661178e-05, 'happy': 99.91950988289773, 'sad': 0.001985828321397316, 'surprise': 4.570589457332967e-08, 'neutral': 0.07847623668841938}, 'dominant_emotion': 'happy', 'region': {'x': 1031, 'y': 1605, 'w': 1333, 'h': 1333}}]\n",
      "['Happy']\n"
     ]
    }
   ],
   "source": [
    "from flask import Flask, request, json\n",
    "import numpy as np\n",
    "import cv2\n",
    "from deepface import DeepFace\n",
    "import base64\n",
    "\n",
    "app = Flask(__name__)\n",
    "\n",
    "@app.route('/')\n",
    "def home():\n",
    "    return \"Welcome to the Emotion Analysis API:)\"\n",
    "\n",
    "@app.route('/post_json', methods=['POST'])\n",
    "def process_json():\n",
    "    data = request.get_json()\n",
    "\n",
    "    # Add padding characters if necessary\n",
    "    padding = len(data['byte_string']) % 4\n",
    "    if padding != 0:\n",
    "        data['byte_string'] += '=' * (4 - padding)\n",
    "\n",
    "    # Decode the image using OpenCV\n",
    "    imgdata = base64.b64decode(data['byte_string'])\n",
    "    image_array = np.frombuffer(imgdata, np.uint8)\n",
    "\n",
    "    # Decode the image using OpenCV\n",
    "    image = cv2.imdecode(image_array, cv2.IMREAD_COLOR)\n",
    "    \n",
    "    # Perform emotion analysis using DeepFace\n",
    "    results = DeepFace.analyze(image, actions=['emotion'])\n",
    "\n",
    "    # Get the top two emotions with values greater than or equal to 2\n",
    "    emotions = results[0]['emotion']\n",
    "    sorted_emotions = sorted(emotions.items(), key=lambda x: x[1], reverse=True)\n",
    "    top_emotions = [emotion.capitalize() for emotion, value in sorted_emotions if value >= 10][:2]\n",
    "\n",
    "    print(results)\n",
    "    print(top_emotions)\n",
    "    return ', '.join(emotion for emotion in top_emotions if emotion)\n",
    "\n",
    "if __name__ == '__main__':\n",
    "     app.run(debug=False, host='0.0.0.0', port=5003)\n"
   ]
  },
  {
   "cell_type": "markdown",
   "id": "62feb6a5",
   "metadata": {},
   "source": []
  },
  {
   "cell_type": "code",
   "execution_count": null,
   "id": "0c4d1923",
   "metadata": {},
   "outputs": [],
   "source": []
  }
 ],
 "metadata": {
  "kernelspec": {
   "display_name": "Python 3 (ipykernel)",
   "language": "python",
   "name": "python3"
  },
  "language_info": {
   "codemirror_mode": {
    "name": "ipython",
    "version": 3
   },
   "file_extension": ".py",
   "mimetype": "text/x-python",
   "name": "python",
   "nbconvert_exporter": "python",
   "pygments_lexer": "ipython3",
   "version": "3.10.10"
  },
  "vscode": {
   "interpreter": {
    "hash": "b0fa6594d8f4cbf19f97940f81e996739fb7646882a419484c72d19e05852a7e"
   }
  }
 },
 "nbformat": 4,
 "nbformat_minor": 5
}
