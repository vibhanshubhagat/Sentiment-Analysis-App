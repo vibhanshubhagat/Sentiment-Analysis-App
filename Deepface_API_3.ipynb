{
 "cells": [
  {
   "cell_type": "code",
   "execution_count": null,
   "id": "ada0ae8e",
   "metadata": {
    "code_folding": []
   },
   "outputs": [
    {
     "name": "stdout",
     "output_type": "stream",
     "text": [
      " * Serving Flask app '__main__'\n",
      " * Debug mode: off\n"
     ]
    },
    {
     "name": "stderr",
     "output_type": "stream",
     "text": [
      "WARNING: This is a development server. Do not use it in a production deployment. Use a production WSGI server instead.\n",
      " * Running on all addresses (0.0.0.0)\n",
      " * Running on http://127.0.0.1:5005\n",
      " * Running on http://192.168.0.72:5005\n",
      "Press CTRL+C to quit\n",
      "127.0.0.1 - - [21/Jul/2023 00:08:11] \"GET / HTTP/1.1\" 200 -\n"
     ]
    }
   ],
   "source": [
    "from flask import Flask, request, render_template, jsonify\n",
    "import numpy as np\n",
    "import cv2\n",
    "from deepface import DeepFace\n",
    "import base64\n",
    "\n",
    "app = Flask(__name__)\n",
    "\n",
    "@app.route('/')\n",
    "def home():\n",
    "    return render_template('index.html')\n",
    "\n",
    "@app.route('/post_json', methods=['POST'])\n",
    "def process_json():\n",
    "    if 'file' not in request.files:\n",
    "        return jsonify({'error': 'No file found in the request'})\n",
    "\n",
    "    file = request.files['file']\n",
    "    if file.filename == '':\n",
    "        return jsonify({'error': 'No file selected'})\n",
    "\n",
    "    try:\n",
    "        # Read the image using OpenCV\n",
    "        image = cv2.imdecode(np.fromstring(file.read(), np.uint8), cv2.IMREAD_COLOR)\n",
    "\n",
    "        # Perform emotion analysis using DeepFace\n",
    "        results = DeepFace.analyze(image, actions=['emotion'])\n",
    "\n",
    "        # Get the top two emotions with values greater than or equal to 10\n",
    "        emotions = results[0]['emotion']\n",
    "        sorted_emotions = sorted(emotions.items(), key=lambda x: x[1], reverse=True)\n",
    "        top_emotions = [emotion.capitalize() for emotion, value in sorted_emotions if value >= 10][:2]\n",
    "\n",
    "        dominant_emotion = results[0]['dominant_emotion']\n",
    "        if dominant_emotion == 'fear':\n",
    "            top_emotions = ['happy']\n",
    "\n",
    "        print(top_emotions)  # Add this line to print the emotions\n",
    "\n",
    "        return jsonify({'emotions': top_emotions})\n",
    "    except Exception as e:\n",
    "        return jsonify({'error': str(e)})\n",
    "\n",
    "if __name__ == '__main__':\n",
    "    app.run(debug=False, host='0.0.0.0', port=5005)\n"
   ]
  },
  {
   "cell_type": "markdown",
   "id": "62feb6a5",
   "metadata": {},
   "source": []
  },
  {
   "cell_type": "code",
   "execution_count": null,
   "id": "0c4d1923",
   "metadata": {},
   "outputs": [],
   "source": []
  }
 ],
 "metadata": {
  "kernelspec": {
   "display_name": "Python 3 (ipykernel)",
   "language": "python",
   "name": "python3"
  },
  "language_info": {
   "codemirror_mode": {
    "name": "ipython",
    "version": 3
   },
   "file_extension": ".py",
   "mimetype": "text/x-python",
   "name": "python",
   "nbconvert_exporter": "python",
   "pygments_lexer": "ipython3",
   "version": "3.10.10"
  },
  "vscode": {
   "interpreter": {
    "hash": "b0fa6594d8f4cbf19f97940f81e996739fb7646882a419484c72d19e05852a7e"
   }
  }
 },
 "nbformat": 4,
 "nbformat_minor": 5
}
