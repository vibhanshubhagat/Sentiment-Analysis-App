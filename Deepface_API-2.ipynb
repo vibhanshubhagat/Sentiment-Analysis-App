{
 "cells": [
  {
   "cell_type": "code",
   "execution_count": 1,
   "id": "10dadcad",
   "metadata": {
    "scrolled": true
   },
   "outputs": [],
   "source": [
    "#!pip install deepface"
   ]
  },
  {
   "cell_type": "code",
   "execution_count": 2,
   "id": "a138671e",
   "metadata": {},
   "outputs": [],
   "source": [
    "# from deepface import DeepFace"
   ]
  },
  {
   "cell_type": "code",
   "execution_count": 3,
   "id": "9c49ab5d",
   "metadata": {},
   "outputs": [],
   "source": [
    "# import cv2\n",
    "# import matplotlib.pyplot as plt"
   ]
  },
  {
   "cell_type": "code",
   "execution_count": 4,
   "id": "f0e3ce66",
   "metadata": {},
   "outputs": [],
   "source": [
    "# img1 = cv2.imread('/Users/vibhanshubhagat/Desktop/ML/Sentiment Analysis/image10.jpg')\n",
    "# plt.imshow(img1[:,:,::-1])\n",
    "# plt.show()"
   ]
  },
  {
   "cell_type": "code",
   "execution_count": 5,
   "id": "0077c1f7",
   "metadata": {
    "scrolled": true
   },
   "outputs": [],
   "source": [
    "# result = DeepFace.analyze(img1, actions=['emotion'])\n",
    "# print(result)\n",
    "# emotions = result[0]['emotion']\n",
    "# sorted_emotions = sorted(emotions.items(), key=lambda x: x[1], reverse=True)[:2]\n",
    "# top_emotions = [emotion for emotion, _ in sorted_emotions]\n",
    "# print(\"Top 2 dominant emotions:\", top_emotions)"
   ]
  },
  {
   "cell_type": "code",
   "execution_count": null,
   "id": "ada0ae8e",
   "metadata": {
    "code_folding": []
   },
   "outputs": [
    {
     "name": "stdout",
     "output_type": "stream",
     "text": [
      " * Serving Flask app '__main__'\n",
      " * Debug mode: off\n"
     ]
    },
    {
     "name": "stderr",
     "output_type": "stream",
     "text": [
      "WARNING: This is a development server. Do not use it in a production deployment. Use a production WSGI server instead.\n",
      " * Running on all addresses (0.0.0.0)\n",
      " * Running on http://127.0.0.1:5003\n",
      " * Running on http://192.168.0.72:5003\n",
      "Press CTRL+C to quit\n",
      "Action: emotion: 100%|████████████████████████████| 1/1 [00:00<00:00,  6.74it/s]\n",
      "192.168.0.22 - - [15/Jul/2023 00:32:09] \"POST /post_json HTTP/1.1\" 200 -\n"
     ]
    },
    {
     "name": "stdout",
     "output_type": "stream",
     "text": [
      "[{'emotion': {'angry': 1.8566726385685834e-06, 'disgust': 5.627466137670316e-10, 'fear': 0.00011566259885500753, 'happy': 82.02184653021735, 'sad': 0.002413551995824412, 'surprise': 3.2936732078875734e-06, 'neutral': 17.975614312217914}, 'dominant_emotion': 'happy', 'region': {'x': 1119, 'y': 1611, 'w': 1324, 'h': 1324}}]\n",
      "['Happy', 'Neutral']\n"
     ]
    },
    {
     "name": "stderr",
     "output_type": "stream",
     "text": [
      "Action: emotion: 100%|████████████████████████████| 1/1 [00:00<00:00, 26.90it/s]\n",
      "192.168.0.22 - - [15/Jul/2023 00:32:19] \"POST /post_json HTTP/1.1\" 200 -\n"
     ]
    },
    {
     "name": "stdout",
     "output_type": "stream",
     "text": [
      "[{'emotion': {'angry': 0.00013128508271620376, 'disgust': 4.703002310507687e-11, 'fear': 0.0002699851620491245, 'happy': 8.051680028438568, 'sad': 0.014265083882492036, 'surprise': 6.167177435401072e-07, 'neutral': 91.93364977836609}, 'dominant_emotion': 'neutral', 'region': {'x': 1065, 'y': 1818, 'w': 1415, 'h': 1415}}]\n",
      "['Neutral']\n"
     ]
    },
    {
     "name": "stderr",
     "output_type": "stream",
     "text": [
      "Action: emotion: 100%|████████████████████████████| 1/1 [00:00<00:00, 29.16it/s]\n",
      "192.168.0.22 - - [15/Jul/2023 00:32:24] \"POST /post_json HTTP/1.1\" 200 -\n"
     ]
    },
    {
     "name": "stdout",
     "output_type": "stream",
     "text": [
      "[{'emotion': {'angry': 0.001152693722438809, 'disgust': 4.438759009914994e-05, 'fear': 0.19603748814463473, 'happy': 0.4480712184245847, 'sad': 1.9518502520740333, 'surprise': 3.470805834598843e-07, 'neutral': 97.40284650359708}, 'dominant_emotion': 'neutral', 'region': {'x': 1083, 'y': 1672, 'w': 1395, 'h': 1395}}]\n",
      "['Neutral']\n"
     ]
    },
    {
     "name": "stderr",
     "output_type": "stream",
     "text": [
      "Action: emotion: 100%|████████████████████████████| 1/1 [00:00<00:00, 40.57it/s]\n",
      "192.168.0.22 - - [15/Jul/2023 00:32:30] \"POST /post_json HTTP/1.1\" 200 -\n"
     ]
    },
    {
     "name": "stdout",
     "output_type": "stream",
     "text": [
      "[{'emotion': {'angry': 5.3618836744431104e-11, 'disgust': 5.076182508955521e-18, 'fear': 5.6562174767622747e-11, 'happy': 99.94553327235778, 'sad': 1.5191214470324916e-08, 'surprise': 6.808324532502508e-07, 'neutral': 0.054466628689192456}, 'dominant_emotion': 'happy', 'region': {'x': 1145, 'y': 1682, 'w': 1340, 'h': 1340}}]\n",
      "['Happy']\n"
     ]
    },
    {
     "name": "stderr",
     "output_type": "stream",
     "text": [
      "Action: emotion: 100%|████████████████████████████| 1/1 [00:00<00:00, 59.35it/s]\n",
      "192.168.0.22 - - [15/Jul/2023 00:32:39] \"POST /post_json HTTP/1.1\" 200 -\n"
     ]
    },
    {
     "name": "stdout",
     "output_type": "stream",
     "text": [
      "[{'emotion': {'angry': 0.11600869474932551, 'disgust': 1.1706585700821392e-08, 'fear': 94.90299820899963, 'happy': 0.34617751371115446, 'sad': 0.007830515824025497, 'surprise': 4.582948237657547, 'neutral': 0.04403390921652317}, 'dominant_emotion': 'fear', 'region': {'x': 1154, 'y': 1886, 'w': 1434, 'h': 1434}}]\n",
      "['Fear']\n"
     ]
    },
    {
     "name": "stderr",
     "output_type": "stream",
     "text": [
      "Action: emotion: 100%|████████████████████████████| 1/1 [00:00<00:00, 25.01it/s]\n",
      "192.168.0.22 - - [15/Jul/2023 00:32:50] \"POST /post_json HTTP/1.1\" 200 -\n"
     ]
    },
    {
     "name": "stdout",
     "output_type": "stream",
     "text": [
      "[{'emotion': {'angry': 3.833909925643475e-09, 'disgust': 3.616230528486848e-21, 'fear': 76.84583067893982, 'happy': 1.5498626687593386e-11, 'sad': 0.00038820885492896196, 'surprise': 1.2644594260535769e-07, 'neutral': 23.15378040075302}, 'dominant_emotion': 'fear', 'region': {'x': 1044, 'y': 1729, 'w': 1422, 'h': 1422}}]\n",
      "['Fear', 'Neutral']\n"
     ]
    },
    {
     "name": "stderr",
     "output_type": "stream",
     "text": [
      "Action: emotion: 100%|████████████████████████████| 1/1 [00:00<00:00, 17.58it/s]\n",
      "192.168.0.22 - - [15/Jul/2023 00:33:00] \"POST /post_json HTTP/1.1\" 200 -\n"
     ]
    },
    {
     "name": "stdout",
     "output_type": "stream",
     "text": [
      "[{'emotion': {'angry': 0.7384233176708221, 'disgust': 7.020357073450612e-08, 'fear': 0.06456308765336871, 'happy': 0.03658311325125396, 'sad': 63.115596771240234, 'surprise': 2.1035425137871933e-09, 'neutral': 36.04483902454376}, 'dominant_emotion': 'sad', 'region': {'x': 1076, 'y': 1774, 'w': 1405, 'h': 1405}}]\n",
      "['Sad', 'Neutral']\n"
     ]
    },
    {
     "name": "stderr",
     "output_type": "stream",
     "text": [
      "Action: emotion: 100%|████████████████████████████| 1/1 [00:00<00:00, 56.76it/s]\n",
      "192.168.0.22 - - [15/Jul/2023 00:33:12] \"POST /post_json HTTP/1.1\" 200 -\n"
     ]
    },
    {
     "name": "stdout",
     "output_type": "stream",
     "text": [
      "[{'emotion': {'angry': 1.8396156993560897e-10, 'disgust': 6.180295420985463e-21, 'fear': 0.24938075803220272, 'happy': 1.9695800979740996e-11, 'sad': 7.52045821172942e-05, 'surprise': 1.9933710238007052e-07, 'neutral': 99.75054860115051}, 'dominant_emotion': 'neutral', 'region': {'x': 1000, 'y': 1515, 'w': 1460, 'h': 1460}}]\n",
      "['Neutral']\n"
     ]
    },
    {
     "name": "stderr",
     "output_type": "stream",
     "text": [
      "Action: emotion: 100%|████████████████████████████| 1/1 [00:00<00:00, 29.15it/s]\n",
      "192.168.0.22 - - [15/Jul/2023 00:33:19] \"POST /post_json HTTP/1.1\" 200 -\n"
     ]
    },
    {
     "name": "stdout",
     "output_type": "stream",
     "text": [
      "[{'emotion': {'angry': 1.7126262809121255e-07, 'disgust': 8.202803777036139e-11, 'fear': 3.235546911046545e-06, 'happy': 76.55999343872149, 'sad': 0.0006061561367004313, 'surprise': 2.2630998819400676e-07, 'neutral': 23.439391143394573}, 'dominant_emotion': 'happy', 'region': {'x': 1145, 'y': 1697, 'w': 1310, 'h': 1310}}]\n",
      "['Happy', 'Neutral']\n"
     ]
    }
   ],
   "source": [
    "from flask import Flask, request, json\n",
    "import numpy as np\n",
    "import cv2\n",
    "from deepface import DeepFace\n",
    "import base64\n",
    "\n",
    "app = Flask(__name__)\n",
    "\n",
    "@app.route('/')\n",
    "def home():\n",
    "    return \"Welcome to the Emotion Analysis API:)\"\n",
    "\n",
    "@app.route('/post_json', methods=['POST'])\n",
    "def process_json():\n",
    "    data = request.get_json()\n",
    "\n",
    "    # Add padding characters if necessary\n",
    "    padding = len(data['byte_string']) % 4\n",
    "    if padding != 0:\n",
    "        data['byte_string'] += '=' * (4 - padding)\n",
    "\n",
    "    # Decode the image using OpenCV\n",
    "    imgdata = base64.b64decode(data['byte_string'])\n",
    "    image_array = np.frombuffer(imgdata, np.uint8)\n",
    "\n",
    "    # Decode the image using OpenCV\n",
    "    image = cv2.imdecode(image_array, cv2.IMREAD_COLOR)\n",
    "    \n",
    "    # Perform emotion analysis using DeepFace\n",
    "    results = DeepFace.analyze(image, actions=['emotion'])\n",
    "\n",
    "    # Get the top two emotions with values greater than or equal to 2\n",
    "    emotions = results[0]['emotion']\n",
    "    sorted_emotions = sorted(emotions.items(), key=lambda x: x[1], reverse=True)\n",
    "    top_emotions = [emotion.capitalize() for emotion, value in sorted_emotions if value >= 10][:2]\n",
    "\n",
    "    print(results)\n",
    "    print(top_emotions)\n",
    "    \n",
    "    # Replace 'fear' with 'happy' if 'fear' is the dominant emotion\n",
    "    dominant_emotion = results[0]['dominant_emotion']\n",
    "    if dominant_emotion == 'fear':\n",
    "        top_emotions = ['happy']\n",
    "    \n",
    "    return ', '.join(emotion for emotion in top_emotions if emotion)\n",
    "\n",
    "if __name__ == '__main__':\n",
    "     app.run(debug=False, host='0.0.0.0', port=5003)\n"
   ]
  },
  {
   "cell_type": "markdown",
   "id": "62feb6a5",
   "metadata": {},
   "source": []
  },
  {
   "cell_type": "code",
   "execution_count": null,
   "id": "0c4d1923",
   "metadata": {},
   "outputs": [],
   "source": []
  }
 ],
 "metadata": {
  "kernelspec": {
   "display_name": "Python 3 (ipykernel)",
   "language": "python",
   "name": "python3"
  },
  "language_info": {
   "codemirror_mode": {
    "name": "ipython",
    "version": 3
   },
   "file_extension": ".py",
   "mimetype": "text/x-python",
   "name": "python",
   "nbconvert_exporter": "python",
   "pygments_lexer": "ipython3",
   "version": "3.10.10"
  },
  "vscode": {
   "interpreter": {
    "hash": "b0fa6594d8f4cbf19f97940f81e996739fb7646882a419484c72d19e05852a7e"
   }
  }
 },
 "nbformat": 4,
 "nbformat_minor": 5
}
