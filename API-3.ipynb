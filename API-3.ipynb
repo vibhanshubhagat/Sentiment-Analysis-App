{
 "cells": [
  {
   "cell_type": "code",
   "execution_count": 1,
   "id": "10dadcad",
   "metadata": {
    "scrolled": true
   },
   "outputs": [],
   "source": [
    "#!pip install deepface"
   ]
  },
  {
   "cell_type": "code",
   "execution_count": 2,
   "id": "a138671e",
   "metadata": {},
   "outputs": [],
   "source": [
    "# from deepface import DeepFace"
   ]
  },
  {
   "cell_type": "code",
   "execution_count": 3,
   "id": "9c49ab5d",
   "metadata": {},
   "outputs": [],
   "source": [
    "# import cv2\n",
    "# import matplotlib.pyplot as plt"
   ]
  },
  {
   "cell_type": "code",
   "execution_count": 4,
   "id": "f0e3ce66",
   "metadata": {},
   "outputs": [],
   "source": [
    "# img1 = cv2.imread('/Users/vibhanshubhagat/Desktop/ML/Sentiment Analysis/image10.jpg')\n",
    "# plt.imshow(img1[:,:,::-1])\n",
    "# plt.show()"
   ]
  },
  {
   "cell_type": "code",
   "execution_count": 5,
   "id": "0077c1f7",
   "metadata": {
    "scrolled": true
   },
   "outputs": [],
   "source": [
    "# result = DeepFace.analyze(img1, actions=['emotion'])\n",
    "# print(result)\n",
    "# emotions = result[0]['emotion']\n",
    "# sorted_emotions = sorted(emotions.items(), key=lambda x: x[1], reverse=True)[:2]\n",
    "# top_emotions = [emotion for emotion, _ in sorted_emotions]\n",
    "# print(\"Top 2 dominant emotions:\", top_emotions)"
   ]
  },
  {
   "cell_type": "code",
   "execution_count": 6,
   "id": "ada0ae8e",
   "metadata": {
    "code_folding": []
   },
   "outputs": [
    {
     "name": "stdout",
     "output_type": "stream",
     "text": [
      " * Serving Flask app '__main__'\n",
      " * Debug mode: off\n"
     ]
    },
    {
     "name": "stderr",
     "output_type": "stream",
     "text": [
      "\u001b[31m\u001b[1mWARNING: This is a development server. Do not use it in a production deployment. Use a production WSGI server instead.\u001b[0m\n",
      " * Running on all addresses (0.0.0.0)\n",
      " * Running on http://127.0.0.1:5003\n",
      " * Running on http://192.168.0.72:5003\n",
      "\u001b[33mPress CTRL+C to quit\u001b[0m\n",
      "127.0.0.1 - - [13/Jul/2023 12:04:08] \"GET / HTTP/1.1\" 200 -\n",
      "Action: emotion: 100%|██████████| 1/1 [00:00<00:00,  4.08it/s]\n",
      "127.0.0.1 - - [13/Jul/2023 12:07:45] \"POST /post_json HTTP/1.1\" 200 -\n"
     ]
    },
    {
     "name": "stdout",
     "output_type": "stream",
     "text": [
      "[{'emotion': {'angry': 2.4857584140537834e-08, 'disgust': 8.44116772318025e-17, 'fear': 3.6363839456009256e-10, 'happy': 98.23368181190979, 'sad': 2.064603056120587e-07, 'surprise': 0.012525873190402877, 'neutral': 1.7537933888312214}, 'dominant_emotion': 'happy', 'region': {'x': 85, 'y': 3, 'w': 101, 'h': 101}}]\n",
      "['Happy']\n"
     ]
    },
    {
     "name": "stderr",
     "output_type": "stream",
     "text": [
      "Action: emotion: 100%|██████████| 1/1 [00:00<00:00, 13.09it/s]\n",
      "127.0.0.1 - - [13/Jul/2023 12:07:48] \"POST /post_json HTTP/1.1\" 200 -\n"
     ]
    },
    {
     "name": "stdout",
     "output_type": "stream",
     "text": [
      "[{'emotion': {'angry': 0.001104838404359443, 'disgust': 0.0003469576065419585, 'fear': 0.0012146607146896755, 'happy': 99.96603131091781, 'sad': 0.015161706863762102, 'surprise': 7.082002073901629e-07, 'neutral': 0.016139169254253464}, 'dominant_emotion': 'happy', 'region': {'x': 11, 'y': 80, 'w': 157, 'h': 157}}]\n",
      "['Happy']\n"
     ]
    },
    {
     "name": "stderr",
     "output_type": "stream",
     "text": [
      "Action: emotion: 100%|██████████| 1/1 [00:00<00:00, 14.46it/s]\n",
      "127.0.0.1 - - [13/Jul/2023 12:07:50] \"POST /post_json HTTP/1.1\" 200 -\n"
     ]
    },
    {
     "name": "stdout",
     "output_type": "stream",
     "text": [
      "[{'emotion': {'angry': 1.2341981753706932, 'disgust': 0.006213630695128813, 'fear': 82.74486064910889, 'happy': 0.0008746246749069542, 'sad': 9.201706200838089, 'surprise': 0.23186069447547197, 'neutral': 6.5802812576293945}, 'dominant_emotion': 'fear', 'region': {'x': 88, 'y': 54, 'w': 69, 'h': 69}}]\n",
      "['Fear']\n"
     ]
    },
    {
     "name": "stderr",
     "output_type": "stream",
     "text": [
      "Action: emotion: 100%|██████████| 1/1 [00:00<00:00, 16.40it/s]\n",
      "127.0.0.1 - - [13/Jul/2023 12:07:54] \"POST /post_json HTTP/1.1\" 200 -\n"
     ]
    },
    {
     "name": "stdout",
     "output_type": "stream",
     "text": [
      "[{'emotion': {'angry': 0.0007410597390844487, 'disgust': 4.665477448817512e-08, 'fear': 1.7677871510386467, 'happy': 0.002811178273987025, 'sad': 1.07304751750803e-06, 'surprise': 98.22866320610046, 'neutral': 2.8672536567242446e-08}, 'dominant_emotion': 'surprise', 'region': {'x': 60, 'y': 46, 'w': 107, 'h': 107}}]\n",
      "['Surprise']\n"
     ]
    },
    {
     "name": "stderr",
     "output_type": "stream",
     "text": [
      "Action: emotion: 100%|██████████| 1/1 [00:00<00:00, 20.78it/s]\n",
      "127.0.0.1 - - [13/Jul/2023 12:07:56] \"POST /post_json HTTP/1.1\" 200 -\n"
     ]
    },
    {
     "name": "stdout",
     "output_type": "stream",
     "text": [
      "[{'emotion': {'angry': 0.0032158779308596856, 'disgust': 5.152553116670535e-10, 'fear': 84.76557913236867, 'happy': 0.003781321269684357, 'sad': 1.5403470439229135e-05, 'surprise': 15.227400931429752, 'neutral': 1.2506133525618398e-08}, 'dominant_emotion': 'fear', 'region': {'x': 78, 'y': 41, 'w': 74, 'h': 74}}]\n",
      "['Fear', 'Surprise']\n"
     ]
    },
    {
     "name": "stderr",
     "output_type": "stream",
     "text": [
      "Action: emotion: 100%|██████████| 1/1 [00:00<00:00, 11.40it/s]\n",
      "127.0.0.1 - - [13/Jul/2023 12:08:06] \"POST /post_json HTTP/1.1\" 200 -\n"
     ]
    },
    {
     "name": "stdout",
     "output_type": "stream",
     "text": [
      "[{'emotion': {'angry': 99.96889830006381, 'disgust': 2.2895926867292996e-07, 'fear': 0.003880503110280821, 'happy': 0.0022846680626971536, 'sad': 0.024267629504896162, 'surprise': 3.5017089494791704e-07, 'neutral': 0.0006682249590216254}, 'dominant_emotion': 'angry', 'region': {'x': 90, 'y': 44, 'w': 61, 'h': 61}}]\n",
      "['Angry']\n"
     ]
    },
    {
     "name": "stderr",
     "output_type": "stream",
     "text": [
      "Action: emotion: 100%|██████████| 1/1 [00:00<00:00,  5.14it/s]\n",
      "127.0.0.1 - - [13/Jul/2023 12:08:34] \"POST /post_json HTTP/1.1\" 200 -\n"
     ]
    },
    {
     "name": "stdout",
     "output_type": "stream",
     "text": [
      "[{'emotion': {'angry': 0.001104838404359443, 'disgust': 0.0003469576065419585, 'fear': 0.0012146607146896755, 'happy': 99.96603131091781, 'sad': 0.015161706863762102, 'surprise': 7.082002073901629e-07, 'neutral': 0.016139169254253464}, 'dominant_emotion': 'happy', 'region': {'x': 11, 'y': 80, 'w': 157, 'h': 157}}]\n",
      "['Happy']\n"
     ]
    },
    {
     "name": "stderr",
     "output_type": "stream",
     "text": [
      "Action: emotion: 100%|██████████| 1/1 [00:00<00:00,  4.30it/s]\n",
      "127.0.0.1 - - [13/Jul/2023 12:11:17] \"POST /post_json HTTP/1.1\" 200 -\n"
     ]
    },
    {
     "name": "stdout",
     "output_type": "stream",
     "text": [
      "[{'emotion': {'angry': 0.0007410597390844487, 'disgust': 4.665477448817512e-08, 'fear': 1.7677871510386467, 'happy': 0.002811178273987025, 'sad': 1.07304751750803e-06, 'surprise': 98.22866320610046, 'neutral': 2.8672536567242446e-08}, 'dominant_emotion': 'surprise', 'region': {'x': 60, 'y': 46, 'w': 107, 'h': 107}}]\n",
      "['Surprise']\n"
     ]
    },
    {
     "name": "stderr",
     "output_type": "stream",
     "text": [
      "Action: emotion: 100%|██████████| 1/1 [00:00<00:00,  8.80it/s]\n",
      "127.0.0.1 - - [13/Jul/2023 12:11:33] \"POST /post_json HTTP/1.1\" 200 -\n"
     ]
    },
    {
     "name": "stdout",
     "output_type": "stream",
     "text": [
      "[{'emotion': {'angry': 99.96889830006381, 'disgust': 2.2895926867292996e-07, 'fear': 0.003880503110280821, 'happy': 0.0022846680626971536, 'sad': 0.024267629504896162, 'surprise': 3.5017089494791704e-07, 'neutral': 0.0006682249590216254}, 'dominant_emotion': 'angry', 'region': {'x': 90, 'y': 44, 'w': 61, 'h': 61}}]\n",
      "['Angry']\n"
     ]
    },
    {
     "name": "stderr",
     "output_type": "stream",
     "text": [
      "Action: emotion: 100%|██████████| 1/1 [00:00<00:00, 20.97it/s]\n",
      "127.0.0.1 - - [13/Jul/2023 12:11:49] \"POST /post_json HTTP/1.1\" 200 -\n"
     ]
    },
    {
     "name": "stdout",
     "output_type": "stream",
     "text": [
      "[{'emotion': {'angry': 0.0032158779308596856, 'disgust': 5.152553116670535e-10, 'fear': 84.76557913236867, 'happy': 0.003781321269684357, 'sad': 1.5403470439229135e-05, 'surprise': 15.227400931429752, 'neutral': 1.2506133525618398e-08}, 'dominant_emotion': 'fear', 'region': {'x': 78, 'y': 41, 'w': 74, 'h': 74}}]\n",
      "['Fear', 'Surprise']\n"
     ]
    },
    {
     "name": "stderr",
     "output_type": "stream",
     "text": [
      "Action: emotion: 100%|██████████| 1/1 [00:00<00:00, 20.48it/s]\n",
      "127.0.0.1 - - [13/Jul/2023 12:12:01] \"POST /post_json HTTP/1.1\" 200 -\n"
     ]
    },
    {
     "name": "stdout",
     "output_type": "stream",
     "text": [
      "[{'emotion': {'angry': 2.4857584140537834e-08, 'disgust': 8.44116772318025e-17, 'fear': 3.6363839456009256e-10, 'happy': 98.23368181190979, 'sad': 2.064603056120587e-07, 'surprise': 0.012525873190402877, 'neutral': 1.7537933888312214}, 'dominant_emotion': 'happy', 'region': {'x': 85, 'y': 3, 'w': 101, 'h': 101}}]\n",
      "['Happy']\n"
     ]
    }
   ],
   "source": [
    "from flask import Flask, request, json\n",
    "import numpy as np\n",
    "import cv2\n",
    "from deepface import DeepFace\n",
    "import base64\n",
    "\n",
    "app = Flask(__name__)\n",
    "\n",
    "@app.route('/')\n",
    "def home():\n",
    "    return \"Welcome to the Emotion Analysis API:)\"\n",
    "\n",
    "@app.route('/post_json', methods=['POST'])\n",
    "def process_json():\n",
    "    data = request.get_json()\n",
    "\n",
    "    # Add padding characters if necessary\n",
    "    padding = len(data['byte_string']) % 4\n",
    "    if padding != 0:\n",
    "        data['byte_string'] += '=' * (4 - padding)\n",
    "\n",
    "    # Decode the image using OpenCV\n",
    "    imgdata = base64.b64decode(data['byte_string'])\n",
    "    image_array = np.frombuffer(imgdata, np.uint8)\n",
    "\n",
    "    # Decode the image using OpenCV\n",
    "    image = cv2.imdecode(image_array, cv2.IMREAD_COLOR)\n",
    "    \n",
    "    # Perform emotion analysis using DeepFace\n",
    "    results = DeepFace.analyze(image, actions=['emotion'])\n",
    "\n",
    "    # Get the top two emotions with values greater than or equal to 2\n",
    "    emotions = results[0]['emotion']\n",
    "    sorted_emotions = sorted(emotions.items(), key=lambda x: x[1], reverse=True)\n",
    "    top_emotions = [emotion.capitalize() for emotion, value in sorted_emotions if value >= 10][:2]\n",
    "    if top_emotions == 'fear':\n",
    "        top_emotions = 'happy'\n",
    "\n",
    "    print(results)\n",
    "    print(top_emotions)\n",
    "    return ', '.join(emotion for emotion in top_emotions if emotion)\n",
    "\n",
    "if __name__ == '__main__':\n",
    "     app.run(debug=False, host='0.0.0.0', port=5003)\n"
   ]
  },
  {
   "cell_type": "markdown",
   "id": "62feb6a5",
   "metadata": {},
   "source": []
  },
  {
   "cell_type": "code",
   "execution_count": null,
   "id": "0c4d1923",
   "metadata": {},
   "outputs": [],
   "source": []
  }
 ],
 "metadata": {
  "kernelspec": {
   "display_name": "Python 3 (ipykernel)",
   "language": "python",
   "name": "python3"
  },
  "language_info": {
   "codemirror_mode": {
    "name": "ipython",
    "version": 3
   },
   "file_extension": ".py",
   "mimetype": "text/x-python",
   "name": "python",
   "nbconvert_exporter": "python",
   "pygments_lexer": "ipython3",
   "version": "3.11.3"
  },
  "vscode": {
   "interpreter": {
    "hash": "b0fa6594d8f4cbf19f97940f81e996739fb7646882a419484c72d19e05852a7e"
   }
  }
 },
 "nbformat": 4,
 "nbformat_minor": 5
}
